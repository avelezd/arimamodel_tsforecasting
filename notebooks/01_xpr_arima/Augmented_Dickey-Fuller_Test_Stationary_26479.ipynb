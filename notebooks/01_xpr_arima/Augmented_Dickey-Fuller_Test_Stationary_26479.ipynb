{
 "cells": [
  {
   "cell_type": "markdown",
   "metadata": {},
   "source": [
    "# Test Augmented Dickey-Fuller\n",
    "Aplicación del test de Dickey-fuller a la serie temporal y análisis de resultados."
   ]
  },
  {
   "cell_type": "code",
   "execution_count": 3,
   "metadata": {},
   "outputs": [],
   "source": [
    "from pandas import read_csv"
   ]
  },
  {
   "cell_type": "code",
   "execution_count": 1,
   "metadata": {},
   "outputs": [],
   "source": [
    "from statsmodels.tsa.stattools import adfuller"
   ]
  },
  {
   "cell_type": "markdown",
   "metadata": {},
   "source": [
    "## Carga del archivo\n",
    "Serie temporal para analizar con ADF"
   ]
  },
  {
   "cell_type": "code",
   "execution_count": 14,
   "metadata": {},
   "outputs": [
    {
     "name": "stdout",
     "output_type": "stream",
     "text": [
      "(288, 1)\n"
     ]
    },
    {
     "data": {
      "text/html": [
       "<div>\n",
       "<style scoped>\n",
       "    .dataframe tbody tr th:only-of-type {\n",
       "        vertical-align: middle;\n",
       "    }\n",
       "\n",
       "    .dataframe tbody tr th {\n",
       "        vertical-align: top;\n",
       "    }\n",
       "\n",
       "    .dataframe thead th {\n",
       "        text-align: right;\n",
       "    }\n",
       "</style>\n",
       "<table border=\"1\" class=\"dataframe\">\n",
       "  <thead>\n",
       "    <tr style=\"text-align: right;\">\n",
       "      <th></th>\n",
       "      <th>vol</th>\n",
       "    </tr>\n",
       "  </thead>\n",
       "  <tbody>\n",
       "    <tr>\n",
       "      <th>0</th>\n",
       "      <td>10</td>\n",
       "    </tr>\n",
       "    <tr>\n",
       "      <th>1</th>\n",
       "      <td>5</td>\n",
       "    </tr>\n",
       "    <tr>\n",
       "      <th>2</th>\n",
       "      <td>20</td>\n",
       "    </tr>\n",
       "    <tr>\n",
       "      <th>3</th>\n",
       "      <td>10</td>\n",
       "    </tr>\n",
       "    <tr>\n",
       "      <th>4</th>\n",
       "      <td>15</td>\n",
       "    </tr>\n",
       "  </tbody>\n",
       "</table>\n",
       "</div>"
      ],
      "text/plain": [
       "   vol\n",
       "0   10\n",
       "1    5\n",
       "2   20\n",
       "3   10\n",
       "4   15"
      ]
     },
     "execution_count": 14,
     "metadata": {},
     "output_type": "execute_result"
    }
   ],
   "source": [
    "series = read_csv('../datasets/stationary/26479.csv', index_col=0, header=None, names=['vol'])\n",
    "print(series.shape)\n",
    "series.head()"
   ]
  },
  {
   "cell_type": "markdown",
   "metadata": {},
   "source": [
    "## Aplicando test ADF\n",
    "Es una versión aumentada del test de Dickey-Fuller para series más largas o más complicadas.\n",
    "La hipótesis nula del test es que existe una *raiz unitaria* en la serie.\n",
    "La hipótesis alternativa depende de la versión del test pero generalmente es que la serie de tiempo es stationary o tiene tendencia stationary (trend-stationary)."
   ]
  },
  {
   "cell_type": "code",
   "execution_count": 7,
   "metadata": {},
   "outputs": [],
   "source": [
    "adf_result = adfuller(series)"
   ]
  },
  {
   "cell_type": "code",
   "execution_count": 10,
   "metadata": {},
   "outputs": [
    {
     "name": "stdout",
     "output_type": "stream",
     "text": [
      "ADF Statistics: -4.342868\n",
      "p-value: 0.000374\n",
      "Critical values:\n",
      "\t1%: -3.454\n",
      "\t5%: -2.872\n",
      "\t10%: -2.572\n"
     ]
    }
   ],
   "source": [
    "print('ADF Statistics: %f'%adf_result[0])\n",
    "print('p-value: %f'%adf_result[1])\n",
    "print('Critical values:')\n",
    "for key, value in adf_result[4].items():\n",
    "    print('\\t%s: %.3f'%(key, value))"
   ]
  },
  {
   "cell_type": "markdown",
   "metadata": {},
   "source": [
    "La estadística ADF usada en el test es un número negativo. Entre más negativo sea el valor, más fuerte es el rechazo de la hipótesis nula (existe una raíz unitaria) con cierto nivel de confianza."
   ]
  },
  {
   "cell_type": "code",
   "execution_count": 11,
   "metadata": {},
   "outputs": [
    {
     "name": "stdout",
     "output_type": "stream",
     "text": [
      "Rejected H0 - Time Series is Stationary\n"
     ]
    }
   ],
   "source": [
    "if adf_result[0] < adf_result[4]['5%']:\n",
    "    print('Rejected H0 - Time Series is Stationary')\n",
    "else:\n",
    "    print('Failed to reject H0 - Time Series is Non-Stationary')"
   ]
  }
 ],
 "metadata": {
  "kernelspec": {
   "display_name": "Python 3",
   "language": "python",
   "name": "python3"
  },
  "language_info": {
   "codemirror_mode": {
    "name": "ipython",
    "version": 3
   },
   "file_extension": ".py",
   "mimetype": "text/x-python",
   "name": "python",
   "nbconvert_exporter": "python",
   "pygments_lexer": "ipython3",
   "version": "3.7.4"
  }
 },
 "nbformat": 4,
 "nbformat_minor": 2
}
